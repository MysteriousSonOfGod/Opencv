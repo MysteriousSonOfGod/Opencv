{
 "cells": [
  {
   "cell_type": "markdown",
   "metadata": {},
   "source": [
    "## 파이썬을 이용한 디렉토리 다루기   \n",
    "   \n",
    "-import shutil, os\n"
   ]
  },
  {
   "cell_type": "code",
   "execution_count": null,
   "metadata": {},
   "outputs": [],
   "source": [
    "import shutil\n",
    "\n",
    "path =\"/home/ubuntu/Opencv/Shutil\"\n",
    "\n",
    "imgfile =\"text.jpg\"\n",
    "img = os.path.join(path,imgfile)\n",
    "\n",
    "shutil.copy('test.jpg', img)\n"
   ]
  },
  {
   "cell_type": "markdown",
   "metadata": {},
   "source": [
    "## 이미지 파일/확장자 변경하기   \n"
   ]
  },
  {
   "cell_type": "code",
   "execution_count": null,
   "metadata": {},
   "outputs": [],
   "source": [
    "import os\n",
    "path=\"/home/ubuntu/Opencv/dogs\"\n",
    "fileList= os.listdir(path)\n",
    "print(fileList)"
   ]
  },
  {
   "cell_type": "code",
   "execution_count": null,
   "metadata": {},
   "outputs": [],
   "source": [
    "import os\n",
    "counter = 0\n",
    "for filename in fileList:\n",
    "    \n",
    "    srcpath = os.path.join(path,filename)\n",
    "    \n",
    "    dstname = \"dogs-%i\"%counter+\".jpg\"\n",
    "    dstpath = os.path.join(path,dstname)\n",
    "    \n",
    "    print(srcpath, dstpath)\n",
    "    \n",
    "    os.rename(srcpath, dstpath)\n",
    "    \n",
    "    counter=counter+1"
   ]
  },
  {
   "cell_type": "markdown",
   "metadata": {},
   "source": [
    "## Jupyter/Opencv/Matpoltlib Ex-1"
   ]
  },
  {
   "cell_type": "code",
   "execution_count": null,
   "metadata": {},
   "outputs": [],
   "source": [
    "import cv2\n",
    "import os\n",
    "from matplotlib import pyplot as plt\n",
    "\n",
    "imageFile = '/home/ubuntu/Opencv_4.4v/data/lena.jpg'\n",
    "\n",
    "if os.path.isfile(imageFile):    \n",
    "#파일존재여부를 확인하는 명령어\n",
    "    imgBGR = cv2.imread(imageFile)\n",
    "else:\n",
    "    print(\"파일이 존재하지 않습니다.\")\n",
    "    \n",
    "#plt.axis('off') \n",
    "#사진해상도 좌표 끄기\n",
    "imgRGB = cv2.cvtColor(imgBGR, cv2.COLOR_BGR2RGB)\n",
    "\n",
    "plt.show()\n",
    "plt.imshow(imgRGB)\n",
    "plt.show()"
   ]
  },
  {
   "cell_type": "markdown",
   "metadata": {},
   "source": [
    "## Jupyter/Opencv/Matpoltlib Ex-2\n",
    "\n",
    "-이미지 window로 출력하기."
   ]
  },
  {
   "cell_type": "code",
   "execution_count": null,
   "metadata": {},
   "outputs": [],
   "source": [
    "import cv2\n",
    "import os\n",
    "from matplotlib import pyplot as plt\n",
    "\n",
    "imageFile = '/home/ubuntu/Opencv/data/lena.jpg'\n",
    "\n",
    "if os.path.isfile(imageFile):    \n",
    "#파일존재여부를 확인하는 명령어\n",
    "    imgBGR = cv2.imread(imageFile)\n",
    "else:\n",
    "    print(\"파일이 존재하지 않습니다.\")\n",
    "    \n",
    "cv2.imshow('Lena color', imgBGR)\n",
    "cv2.waitKey()\n",
    "cv2.destroyAllWindows()"
   ]
  },
  {
   "cell_type": "markdown",
   "metadata": {},
   "source": [
    "## Jupyter/Opencv/Matpoltlib Ex-3\n",
    "\n",
    "-Gray image.   \n",
    "-Interpolation,bicubic. 이미지 보간법"
   ]
  },
  {
   "cell_type": "code",
   "execution_count": null,
   "metadata": {},
   "outputs": [],
   "source": [
    "import cv2\n",
    "import os\n",
    "from matplotlib import pyplot as plt\n",
    "\n",
    "imageFile = '/home/ubuntu/Opencv_4.4v/data/lena.jpg'\n",
    "\n",
    "if os.path.isfile(imageFile):    \n",
    "#파일존재여부를 확인하는 명령어\n",
    "    imgGray = cv2.imread(imageFile, cv2.IMREAD_GRAYSCALE)   #v2.IMREAD_GRAYSCALE=0, Gray색으로 이미지를 불러온다.\n",
    "else:\n",
    "    print(\"파일이 존재하지 않습니다.\")\n",
    "    \n",
    "#plt.axis('off')    #사진해상도 좌표 끄기\n",
    "\n",
    "cv2.waitKey()\n",
    "cv2.destroyAllWindows()\n",
    "plt.imshow(imgGray, cmap=\"gray\", interpolation=\"bicubic\")   #cmap=\"gray\" \n"
   ]
  },
  {
   "cell_type": "markdown",
   "metadata": {},
   "source": [
    "## Jupyter/Opencv/Matpoltlib Ex-4\n",
    "\n",
    "-이미지를 이미지를 한개의 이미지로 병합."
   ]
  },
  {
   "cell_type": "code",
   "execution_count": null,
   "metadata": {},
   "outputs": [],
   "source": [
    "import cv2\n",
    "import os\n",
    "from matplotlib import pyplot as plt\n",
    "\n",
    "path = '/home/ubuntu/Opencv/data'\n",
    "\n",
    "imageFile1 = 'orange.jpg'\n",
    "imageFile2 = 'apple.jpg'\n",
    "imageFile3 = 'banana.jpg'\n",
    "imageFile4 = 'lena.jpg'\n",
    "\n",
    "imageFile1 = os.path.join(path, imageFile1)   #이미지경로를 연결하여 문자열로 저장.\n",
    "imageFile2 = os.path.join(path, imageFile2)\n",
    "imageFile3 = os.path.join(path, imageFile3)\n",
    "imageFile4 = os.path.join(path, imageFile4)\n",
    "\n",
    "if os.path.isdir(path):    \n",
    "#파일존재여부를 확인하는 명령어\n",
    "    imgBGR1 = cv2.imread(imageFile1)\n",
    "    imgBGR2 = cv2.imread(imageFile2)\n",
    "    imgBGR3 = cv2.imread(imageFile3)\n",
    "    imgBGR4 = cv2.imread(imageFile4)        \n",
    "else:\n",
    "    print(\"파일이 존재하지 않습니다.\")\n",
    "    "
   ]
  },
  {
   "cell_type": "code",
   "execution_count": null,
   "metadata": {},
   "outputs": [],
   "source": [
    "#cv2.imshow('window-1', imgBGR1)      #이미지가 출력되는지 확인하기위한 작업.\n",
    "#cv2.waitKey()\n",
    "#cv2.destroyAllWindows()"
   ]
  },
  {
   "cell_type": "code",
   "execution_count": null,
   "metadata": {},
   "outputs": [],
   "source": [
    "\n",
    "imgRGB1 = cv2.cvtColor(imgBGR1, cv2.COLOR_BGR2RGB)\n",
    "imgRGB2 = cv2.cvtColor(imgBGR2, cv2.COLOR_BGR2RGB)\n",
    "imgRGB3 = cv2.cvtColor(imgBGR3, cv2.COLOR_BGR2RGB)\n",
    "imgRGB4 = cv2.cvtColor(imgBGR4, cv2.COLOR_BGR2RGB)\n",
    "    \n",
    "fig, ax = plt.subplots(2,2,figsize=(10,10), sharey=True)\n",
    "\n",
    "fig.canvas.set_window_title('Sample Pictures')\n",
    "    \n",
    "ax[0][0].axis('off')\n",
    "ax[0][1].axis('off')\n",
    "ax[1][0].axis('off')\n",
    "ax[1][1].axis('off')\n",
    "\n",
    "ax[0][0].imshow(imgRGB1, aspect=\"auto\")\n",
    "ax[0][1].imshow(imgRGB2, aspect=\"auto\")\n",
    "ax[1][0].imshow(imgRGB3, aspect=\"auto\")\n",
    "ax[1][1].imshow(imgRGB4, aspect=\"auto\")\n",
    "\n",
    "dstName = \"figex_1.png\"\n",
    "plt.subplots_adjust(left=0, bottom=0, right=1, top=1, wspace=0.05, hspace =0.05)\n",
    "plt.savefig(dstName, bbox_inches='tight')\n"
   ]
  },
  {
   "cell_type": "markdown",
   "metadata": {},
   "source": [
    "## VideoCapture Ex-1\n",
    "\n",
    "-카메라에서 영상을 가져올때.   \n",
    "-동영상파일을 읽어 올때.   \n",
    "-웹에서 영상을 가져올때.   "
   ]
  },
  {
   "cell_type": "code",
   "execution_count": null,
   "metadata": {},
   "outputs": [],
   "source": [
    "import cv2\n",
    "import os\n",
    "\n",
    "path = '/home/ubuntu/Opencv/data'\n",
    "filePath = os.path.join(path, \"video1.avi\")\n",
    "print(filePath)"
   ]
  },
  {
   "cell_type": "code",
   "execution_count": null,
   "metadata": {},
   "outputs": [],
   "source": [
    "if os.path.isfile(filePath):\n",
    "    cap = cv2.VideoCapture(filePath)\n",
    "else:\n",
    "    print(\"찾는 파일이 없습니다.\")\n",
    "print(cap)"
   ]
  },
  {
   "cell_type": "code",
   "execution_count": null,
   "metadata": {},
   "outputs": [],
   "source": [
    "frameWidth = (int(cap.get(cv2.CAP_PROP_FRAME_HEIGHT)))\n",
    "frameHeight = (int(cap.get(cv2.CAP_PROP_FRAME_HEIGHT)))\n",
    "\n",
    "frame_size = (frameWidth,frameHeight)\n",
    "print(frame_size)"
   ]
  },
  {
   "cell_type": "code",
   "execution_count": null,
   "metadata": {},
   "outputs": [],
   "source": [
    "frameRate = 33\n",
    "#동영상 프레임을 캡처\n",
    "while True:\n",
    "    #한 장의 이미지를 가져온다.\n",
    "    #이미지 -> frame\n",
    "    #정상적으로 읽어왔는지 -> retval\n",
    "    retval, frame = cap.read()\n",
    "    if not(retval):\n",
    "        break      #프레임정보를 읽지 못 할 경우 while문을 나온다.\n",
    "    \n",
    "    cv2.imshow('frame', frame)\n",
    "    key = cv2.waitKey(33)   \n",
    "    # 키 입력을 받으면 키값을 key로 저장 -> 아스키코드 'ESC == 27'\n",
    "    if key ==  27:\n",
    "        break\n",
    "        \n",
    "if cap.isOpened():\n",
    "    cap.release()\n",
    "    \n",
    "cv2.destroyAllWindows() \n",
    "    "
   ]
  },
  {
   "cell_type": "markdown",
   "metadata": {},
   "source": [
    "## VideoCapture Ex-2   \n",
    "\n",
    "-내장카메라, 웹캡등을 이용한 카메라화면 캡쳐   \n"
   ]
  },
  {
   "cell_type": "code",
   "execution_count": null,
   "metadata": {},
   "outputs": [],
   "source": [
    "import cv2\n",
    "\n",
    "cap = cv2.VideoCapture(1)\n",
    "\n",
    "cap.set(cv2.CAP_PROP_FRAME_WIDTH, 640)\n",
    "cap.set(cv2.CAP_PROP_FRAME_HEIGHT, 480)"
   ]
  },
  {
   "cell_type": "code",
   "execution_count": null,
   "metadata": {},
   "outputs": [],
   "source": [
    "frameWidth = (int(cap.get(cv2.CAP_PROP_FRAME_HEIGHT)))\n",
    "frameHeight = (int(cap.get(cv2.CAP_PROP_FRAME_HEIGHT)))\n",
    "\n",
    "frame_size = (frameWidth,frameHeight)\n",
    "print(frame_size)"
   ]
  },
  {
   "cell_type": "code",
   "execution_count": null,
   "metadata": {},
   "outputs": [],
   "source": [
    "frameRate = 33\n",
    "#동영상 프레임을 캡처\n",
    "while True:\n",
    "    #한 장의 이미지를 가져온다.\n",
    "    #이미지 -> frame\n",
    "    #정상적으로 읽어왔는지 -> retval\n",
    "    retval, frame = cap.read()\n",
    "    if not(retval):\n",
    "        break      #프레임정보를 읽지 못 할 경우 while문을 나온다.\n",
    "    \n",
    "    cv2.imshow('frame', frame)\n",
    "    key = cv2.waitKey(33)   \n",
    "    # 키 입력을 받으면 키값을 key로 저장 -> 아스키코드 'ESC == 27'\n",
    "    if key ==  27:\n",
    "        break\n",
    "        \n",
    "if cap.isOpened():\n",
    "    cap.release()\n",
    "    \n",
    "cv2.destroyAllWindows() "
   ]
  },
  {
   "cell_type": "markdown",
   "metadata": {},
   "source": [
    "## Pafy\n",
    "\n",
    "-Pafy를 이용하여 유트브 영상을 크롤링 하기."
   ]
  },
  {
   "cell_type": "code",
   "execution_count": null,
   "metadata": {
    "scrolled": true
   },
   "outputs": [],
   "source": [
    "import cv2\n",
    "import pafy\n",
    "\n",
    "url = 'https://www.youtube.com/watch?v=d7WWxBG2Q40'\n",
    "video = pafy.new(url)\n",
    "print(video)"
   ]
  },
  {
   "cell_type": "code",
   "execution_count": null,
   "metadata": {
    "scrolled": true
   },
   "outputs": [],
   "source": [
    "print(\"video title:{}\",format(video.title))           #제목\n",
    "print(\"video rating:{}\",format(video.rating))         #평점\n",
    "print(\"video viewcount:{}\",format(video.viewcount))   #조회수\n",
    "print(\"video author:{}\",format(video.author))         #저작권자\n",
    "print(\"video length:{}\",format(video.length))       #런타임 sec\n",
    "print(\"video duration:{}\",format(video.duration))     # %h, %m, $s"
   ]
  },
  {
   "cell_type": "code",
   "execution_count": null,
   "metadata": {},
   "outputs": [],
   "source": [
    "best = video.getbest(preftype='mp4')\n",
    "print('bast.resolution', best.resolution)"
   ]
  },
  {
   "cell_type": "code",
   "execution_count": null,
   "metadata": {},
   "outputs": [],
   "source": [
    "cap = cv2.VideoCapture(best.url)\n",
    "\n",
    "frameRate = 33\n",
    "#동영상 프레임을 캡처\n",
    "while True:\n",
    "    #한 장의 이미지를 가져온다.\n",
    "    #이미지 -> frame\n",
    "    #정상적으로 읽어왔는지 -> retval\n",
    "    retval, frame = cap.read()\n",
    "    if not(retval):\n",
    "        break      #프레임정보를 읽지 못 할 경우 while문을 나온다.\n",
    "    \n",
    "    cv2.imshow('frame', frame)\n",
    "    gray = cv2.cvtColor(frame, cv2.COLOR_BGR2GRAY)\n",
    "    edges = cv2.Canny(gray, 100, 200)\n",
    "    cv2.imshow('edges', edges)\n",
    "    \n",
    "    key = cv2.waitKey(33)   \n",
    "    \n",
    "    # 키 입력을 받으면 키값을 key로 저장 -> 아스키코드 'ESC == 27'\n",
    "    if key ==  27:\n",
    "        break\n",
    "        \n",
    "if cap.isOpened():\n",
    "    cap.release()\n",
    "    \n",
    "cv2.destroyAllWindows() "
   ]
  },
  {
   "cell_type": "markdown",
   "metadata": {},
   "source": []
  },
  {
   "cell_type": "code",
   "execution_count": 1,
   "metadata": {},
   "outputs": [
    {
     "name": "stdout",
     "output_type": "stream",
     "text": [
      "Title: [#유퀴즈온더블럭] (경) 지자체 유튜브 채널 1위 (축) B급 감성으로 충주시 인지도 대박 낸 썰 | #Diggle\n",
      "Author: tvN D ENT\n",
      "ID: d7WWxBG2Q40\n",
      "Duration: 00:13:03\n",
      "Rating: 4.9417043\n",
      "Views: 60982\n",
      "Thumbnail: http://i.ytimg.com/vi/d7WWxBG2Q40/default.jpg\n"
     ]
    }
   ],
   "source": [
    "import cv2\n",
    "import pafy\n",
    "\n",
    "url = 'https://www.youtube.com/watch?v=d7WWxBG2Q40'\n",
    "video = pafy.new(url)\n",
    "print(video)"
   ]
  },
  {
   "cell_type": "code",
   "execution_count": 2,
   "metadata": {},
   "outputs": [
    {
     "name": "stdout",
     "output_type": "stream",
     "text": [
      "video title:{} [#유퀴즈온더블럭] (경) 지자체 유튜브 채널 1위 (축) B급 감성으로 충주시 인지도 대박 낸 썰 | #Diggle\n",
      "video rating:{} 4.9417043\n",
      "video viewcount:{} 60982\n",
      "video author:{} tvN D ENT\n",
      "video length:{} 783\n",
      "video duration:{} 00:13:03\n"
     ]
    }
   ],
   "source": [
    "print(\"video title:{}\",format(video.title))           #제목\n",
    "print(\"video rating:{}\",format(video.rating))         #평점\n",
    "print(\"video viewcount:{}\",format(video.viewcount))   #조회수\n",
    "print(\"video author:{}\",format(video.author))         #저작권자\n",
    "print(\"video length:{}\",format(video.length))         #런타임 sec\n",
    "print(\"video duration:{}\",format(video.duration))     # %h, %m, $s"
   ]
  },
  {
   "cell_type": "code",
   "execution_count": 3,
   "metadata": {},
   "outputs": [
    {
     "name": "stdout",
     "output_type": "stream",
     "text": [
      "bast.resolution 1280x720\n"
     ]
    }
   ],
   "source": [
    "best = video.getbest(preftype='mp4')\n",
    "print('bast.resolution', best.resolution)"
   ]
  },
  {
   "cell_type": "code",
   "execution_count": 4,
   "metadata": {},
   "outputs": [
    {
     "name": "stdout",
     "output_type": "stream",
     "text": [
      "frame_size=(720, 720)\n",
      "fps=29\n"
     ]
    }
   ],
   "source": [
    "cap = cv2.VideoCapture(best.url)\n",
    "\n",
    "frameWidth = int(cap.get(cv2.CAP_PROP_FRAME_HEIGHT))\n",
    "frameHeight = int(cap.get(cv2.CAP_PROP_FRAME_HEIGHT))\n",
    "frameRate = int(cap.get(cv2.CAP_PROP_FPS))\n",
    "cv2.imshow()\n",
    "breakKey = 99\n",
    "\n",
    "frame_size = (frameWidth,frameHeight)\n",
    "print('frame_size={}'.format(frame_size))\n",
    "print('fps={}'.format(frameRate))\n",
    "\n",
    "fourcc = cv2.VideoWriter_fourcc(*'XVID')\n",
    "\n",
    "out1path = '/home/ubuntu/Opencv/data/record1.mp4'\n",
    "out2path = '/home/ubuntu/Opencv/data/record2.mp4'\n",
    "out1 = cv2.VideoWriter(out1path, fourcc, frameRate, frame_size)\n",
    "out2 = cv2.VideoWriter(out2path, fourcc, frameRate, frame_size)"
   ]
  },
  {
   "cell_type": "code",
   "execution_count": 5,
   "metadata": {},
   "outputs": [],
   "source": [
    "while True:\n",
    "    #한 장의 이미지를 가져온다.\n",
    "    #이미지 -> frame\n",
    "    #정상적으로 읽어왔는지 -> retval\n",
    "    retval, frame = cap.read()\n",
    "    if not(retval):\n",
    "        break      #프레임정보를 읽지 못 할 경우 while문을 나온다.\n",
    "    \n",
    "    out1.write(frame)\n",
    "    \n",
    "    \n",
    "    cv2.imshow('frame', frame)\n",
    "    gray = cv2.cvtColor(frame, cv2.COLOR_BGR2GRAY)\n",
    "    edges = cv2.Canny(gray, 100, 200)\n",
    "    \n",
    "    \n",
    "    #동영상 파일에 쓰기\n",
    "    out1.write(frame)\n",
    "    out2.write(edges)\n",
    "    \n",
    "    #모니터에 출력\n",
    "    cv2.imshow('frame', frame)\n",
    "    cv2.imshow('edges', edges)\n",
    "    \n",
    "    \n",
    "    key = cv2.waitKey(frameRate)   \n",
    "    # 키 입력을 받으면 키값을 key로 저장 -> 아스키코드 'ESC == 27'\n",
    "    if key ==  27:\n",
    "        break\n",
    "        \n",
    "if cap.isOpened():\n",
    "    cap.release()\n",
    "    out1.release()\n",
    "    out2.release()\n",
    "    \n",
    "cv2.destroyAllWindows() "
   ]
  },
  {
   "cell_type": "code",
   "execution_count": null,
   "metadata": {},
   "outputs": [],
   "source": []
  }
 ],
 "metadata": {
  "kernelspec": {
   "display_name": "Python 3",
   "language": "python",
   "name": "python3"
  },
  "language_info": {
   "codemirror_mode": {
    "name": "ipython",
    "version": 3
   },
   "file_extension": ".py",
   "mimetype": "text/x-python",
   "name": "python",
   "nbconvert_exporter": "python",
   "pygments_lexer": "ipython3",
   "version": "3.8.5"
  }
 },
 "nbformat": 4,
 "nbformat_minor": 4
}

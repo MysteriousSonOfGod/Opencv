{
 "cells": [
  {
   "cell_type": "markdown",
   "metadata": {
    "id": "VgAOV88xpFCs"
   },
   "source": [
    "### 파일복사"
   ]
  },
  {
   "cell_type": "code",
   "execution_count": null,
   "metadata": {
    "id": "2SjQSS7CpFCu",
    "outputId": "1ad2b8af-cc60-4da3-d951-4756776e6400"
   },
   "outputs": [
    {
     "data": {
      "text/plain": [
       "'/home/park/test/file2.txt'"
      ]
     },
     "execution_count": 1,
     "metadata": {
      "tags": []
     },
     "output_type": "execute_result"
    }
   ],
   "source": [
    "import shutil\n",
    "# 소스 파일의 경로\n",
    "src = '/home/park/test/file1.txt'\n",
    "# 타겟 파일의 경로\n",
    "dst = '/home/park/test/file2.txt'\n",
    "shutil.copy(src,dst)"
   ]
  },
  {
   "cell_type": "code",
   "execution_count": null,
   "metadata": {
    "id": "wAKo2lympFC3"
   },
   "outputs": [],
   "source": []
  },
  {
   "cell_type": "markdown",
   "metadata": {
    "id": "0Kq_frQRpFC7"
   },
   "source": [
    "### 파일복사2\n",
    "파일의 메타 데이터까지 유지한다.  \n",
    "메터 데이터란 : 파일의 읽기,쓰기, 실행권한 및 소유자, 소유그룹, 파일의 생성, 액세스 시간\n",
    "                등을 메터 데이터라 한다. "
   ]
  },
  {
   "cell_type": "code",
   "execution_count": null,
   "metadata": {
    "id": "ZccDzLuIpFC8",
    "outputId": "afc0db1d-8f00-4c07-f251-eb8db291c3e0"
   },
   "outputs": [
    {
     "data": {
      "text/plain": [
       "'/home/park/test/file3.txt'"
      ]
     },
     "execution_count": 2,
     "metadata": {
      "tags": []
     },
     "output_type": "execute_result"
    }
   ],
   "source": [
    "import shutil\n",
    "# 소스 파일의 경로\n",
    "src = '/home/park/test/file1.txt'\n",
    "# 타겟 파일의 경로\n",
    "dst = '/home/park/test/file3.txt'\n",
    "shutil.copy2(src,dst)"
   ]
  },
  {
   "cell_type": "code",
   "execution_count": null,
   "metadata": {
    "id": "sjZJWroppFDA"
   },
   "outputs": [],
   "source": []
  },
  {
   "cell_type": "markdown",
   "metadata": {
    "id": "o_-_9RMupFDE"
   },
   "source": [
    "### 디렉토리 복사"
   ]
  },
  {
   "cell_type": "code",
   "execution_count": null,
   "metadata": {
    "id": "Y2KUapu9pFDF",
    "outputId": "203942d0-152f-44cb-cc5c-4965d343d3af"
   },
   "outputs": [
    {
     "data": {
      "text/plain": [
       "'/home/park/test/sub_test2'"
      ]
     },
     "execution_count": 3,
     "metadata": {
      "tags": []
     },
     "output_type": "execute_result"
    }
   ],
   "source": [
    "import shutil\n",
    "src = '/home/park/test/sub_test1'\n",
    "dst = '/home/park/test/sub_test2'\n",
    "shutil.copytree(src,dst)"
   ]
  },
  {
   "cell_type": "code",
   "execution_count": null,
   "metadata": {
    "id": "QLHgJ1nopFDJ"
   },
   "outputs": [],
   "source": []
  },
  {
   "cell_type": "markdown",
   "metadata": {
    "id": "RWy8oD4XpFDP"
   },
   "source": [
    "### 파일/디렉토리의 이동"
   ]
  },
  {
   "cell_type": "code",
   "execution_count": null,
   "metadata": {
    "id": "CCDzDhDipFDQ",
    "outputId": "9e3c4f4a-7352-4d7f-8aa6-b9d0877c91bb"
   },
   "outputs": [
    {
     "data": {
      "text/plain": [
       "'/home/park/test/sub_test3'"
      ]
     },
     "execution_count": 4,
     "metadata": {
      "tags": []
     },
     "output_type": "execute_result"
    }
   ],
   "source": [
    "#디렉토리의 이동\n",
    "import shutil\n",
    "src = '/home/park/test/sub_test2'\n",
    "dst = '/home/park/test/sub_test3'\n",
    "shutil.move(src,dst)"
   ]
  },
  {
   "cell_type": "code",
   "execution_count": null,
   "metadata": {
    "id": "yt4RbU-spFDU",
    "outputId": "b90a4c05-b26b-4be1-d1b2-7818faaeefc1"
   },
   "outputs": [
    {
     "data": {
      "text/plain": [
       "'/home/park/test/sub_test3/ccc.txt'"
      ]
     },
     "execution_count": 5,
     "metadata": {
      "tags": []
     },
     "output_type": "execute_result"
    }
   ],
   "source": [
    "#파일의 이동\n",
    "import shutil\n",
    "src = '/home/park/test/sub_test3/aaa.txt'\n",
    "dst = '/home/park/test/sub_test3/ccc.txt'\n",
    "shutil.move(src,dst)"
   ]
  },
  {
   "cell_type": "code",
   "execution_count": null,
   "metadata": {
    "id": "ZmdfZPqapFDY"
   },
   "outputs": [],
   "source": []
  },
  {
   "cell_type": "markdown",
   "metadata": {
    "id": "ohvQbSfjpFDc"
   },
   "source": [
    "# OS Module"
   ]
  },
  {
   "cell_type": "markdown",
   "metadata": {
    "id": "Rld3gxu3pFDd"
   },
   "source": [
    "### 파일/디렉토리 이름 바꾸기(이동) \n",
    "shutil.move와 동일하다"
   ]
  },
  {
   "cell_type": "code",
   "execution_count": null,
   "metadata": {
    "id": "pWpz5NaUpFDe"
   },
   "outputs": [],
   "source": [
    "import os\n",
    "src = '/home/park/test/sub_test3/ccc.txt'\n",
    "dst = '/home/park/test/sub_test3/ddd.txt'\n",
    "os.rename(src,dst)"
   ]
  },
  {
   "cell_type": "code",
   "execution_count": null,
   "metadata": {
    "id": "22tNySDRpFDi"
   },
   "outputs": [],
   "source": []
  },
  {
   "cell_type": "code",
   "execution_count": null,
   "metadata": {
    "id": "7NZPEYJjpFDm",
    "outputId": "7637d012-abcf-413c-f0b6-b54d5b7a7d5c"
   },
   "outputs": [
    {
     "name": "stdout",
     "output_type": "stream",
     "text": [
      "['다운로드 (6).jpeg', 'images (1).jpeg', '다운로드 (12).jpeg', '다운로드 (14).jpeg', '다운로드 (16).jpeg', '다운로드 (19).jpeg', '다운로드 (18).jpeg', '다운로드 (11).jpeg', 'images.jpeg', '다운로드 (7).jpeg', '다운로드 (9).jpeg', '다운로드 (10).jpeg', '다운로드 (8).jpeg', '다운로드 (3).jpeg', '다운로드 (1).jpeg', '다운로드 (5).jpeg', 'images (2).jpeg', '다운로드 (15).jpeg', '다운로드 (13).jpeg', '다운로드.jpeg', '다운로드 (17).jpeg', 'images (3).jpeg', '다운로드 (2).jpeg', '다운로드 (4).jpeg']\n"
     ]
    }
   ],
   "source": [
    "import os\n",
    "path=\"/home/park/test/dogs\"\n",
    "fileList = os.listdir(path)\n",
    "print(fileList)"
   ]
  },
  {
   "cell_type": "code",
   "execution_count": null,
   "metadata": {
    "id": "UolBOZQ2pFDu",
    "outputId": "d2fab1eb-2dfb-4847-e5a0-8ac765866850"
   },
   "outputs": [
    {
     "name": "stdout",
     "output_type": "stream",
     "text": [
      "dogs.0.jpg\n",
      "dogs.1.jpg\n",
      "dogs.2.jpg\n",
      "dogs.3.jpg\n",
      "dogs.4.jpg\n",
      "dogs.5.jpg\n",
      "dogs.6.jpg\n",
      "dogs.7.jpg\n",
      "dogs.8.jpg\n",
      "dogs.9.jpg\n",
      "dogs.10.jpg\n",
      "dogs.11.jpg\n",
      "dogs.12.jpg\n",
      "dogs.13.jpg\n",
      "dogs.14.jpg\n",
      "dogs.15.jpg\n",
      "dogs.16.jpg\n",
      "dogs.17.jpg\n",
      "dogs.18.jpg\n",
      "dogs.19.jpg\n",
      "dogs.20.jpg\n",
      "dogs.21.jpg\n",
      "dogs.22.jpg\n",
      "dogs.23.jpg\n"
     ]
    }
   ],
   "source": [
    "# 현재 파일명 -> dogs.#number.jpg 형태로 바꾸기\n",
    "\n",
    "import os\n",
    "counter = 0\n",
    "for filename in fileList:\n",
    "    #원본 파일경로+파일명\n",
    "    srcpath = os.path.join(path,filename)\n",
    "    \n",
    "    # 타겟 파일경로+파일명\n",
    "    dstname = \"dogs.%i\"%counter+\".jpg\"\n",
    "    dstpath = os.path.join(path,dstname)\n",
    "    print(dstname)\n",
    "    \n",
    "    os.rename(srcpath, dstpath)\n",
    "    \n",
    "    counter=counter+1"
   ]
  },
  {
   "cell_type": "code",
   "execution_count": null,
   "metadata": {
    "id": "mqqlREclpFDx",
    "outputId": "b1975a79-b3f1-431a-e1f7-8cb807b96a2a"
   },
   "outputs": [
    {
     "name": "stdout",
     "output_type": "stream",
     "text": [
      "dogs.0.jpg\n",
      "dogs.4.jpg\n",
      "dogs.23.jpg\n",
      "dogs.17.jpg\n",
      "dogs.13.jpg\n",
      "dogs.16.jpg\n",
      "dogs.21.jpg\n",
      "dogs.20.jpg\n",
      "dogs.22.jpg\n",
      "dogs.15.jpg\n",
      "dogs.14.jpg\n",
      "dogs.19.jpg\n",
      "dogs.18.jpg\n",
      "dogs.6.jpg\n",
      "dogs.7.jpg\n",
      "dogs.5.jpg\n",
      "dogs.8.jpg\n",
      "dogs.9.jpg\n",
      "dogs.12.jpg\n",
      "dogs.2.jpg\n",
      "dogs.11.jpg\n",
      "dogs.10.jpg\n",
      "dogs.3.jpg\n",
      "dogs.1.jpg\n"
     ]
    }
   ],
   "source": [
    "import os\n",
    "path=\"/home/park/test/dogs\"\n",
    "fileList = os.listdir(path)\n",
    "for filename in fileList:\n",
    "    print(filename)"
   ]
  }
 ],
 "metadata": {
  "colab": {
   "name": "shutilEx.ipynb",
   "provenance": []
  },
  "kernelspec": {
   "display_name": "Python 3",
   "language": "python",
   "name": "python3"
  },
  "language_info": {
   "codemirror_mode": {
    "name": "ipython",
    "version": 3
   },
   "file_extension": ".py",
   "mimetype": "text/x-python",
   "name": "python",
   "nbconvert_exporter": "python",
   "pygments_lexer": "ipython3",
   "version": "3.8.5"
  }
 },
 "nbformat": 4,
 "nbformat_minor": 1
}
